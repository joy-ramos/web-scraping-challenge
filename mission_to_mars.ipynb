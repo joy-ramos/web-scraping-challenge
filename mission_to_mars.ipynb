{
 "cells": [
  {
   "cell_type": "code",
   "execution_count": 1,
   "metadata": {},
   "outputs": [],
   "source": [
    "import os\n",
    "import pandas as pd\n",
    "from splinter import Browser\n",
    "from selenium import webdriver\n",
    "from bs4 import BeautifulSoup\n",
    "import cssutils\n",
    "import requests"
   ]
  },
  {
   "cell_type": "code",
   "execution_count": 2,
   "metadata": {},
   "outputs": [],
   "source": [
    "executable_path = {'executable_path': 'chromedriver.exe'}\n",
    "\n",
    "chrome_options = webdriver.ChromeOptions()\n",
    "chrome_options.add_argument(\"--enable-javascript\")\n",
    "\n",
    "browser = Browser('chrome', **executable_path, headless=False, options=chrome_options)"
   ]
  },
  {
   "cell_type": "markdown",
   "metadata": {},
   "source": [
    "# NASA Mars News"
   ]
  },
  {
   "cell_type": "code",
   "execution_count": 3,
   "metadata": {},
   "outputs": [],
   "source": [
    "url = 'https://mars.nasa.gov/news/'\n",
    "browser.visit(url)"
   ]
  },
  {
   "cell_type": "code",
   "execution_count": 7,
   "metadata": {},
   "outputs": [
    {
     "ename": "NameError",
     "evalue": "name 'python' is not defined",
     "output_type": "error",
     "traceback": [
      "\u001b[1;31m---------------------------------------------------------------------------\u001b[0m",
      "\u001b[1;31mNameError\u001b[0m                                 Traceback (most recent call last)",
      "\u001b[1;32m<ipython-input-7-a4637bbefc43>\u001b[0m in \u001b[0;36m<module>\u001b[1;34m\u001b[0m\n\u001b[1;32m----> 1\u001b[1;33m \u001b[0mpython\u001b[0m \u001b[1;33m-\u001b[0m\u001b[1;33m-\u001b[0m\u001b[0mversion\u001b[0m\u001b[1;33m\u001b[0m\u001b[1;33m\u001b[0m\u001b[0m\n\u001b[0m",
      "\u001b[1;31mNameError\u001b[0m: name 'python' is not defined"
     ]
    }
   ],
   "source": [
    "python --version"
   ]
  },
  {
   "cell_type": "code",
   "execution_count": 4,
   "metadata": {},
   "outputs": [],
   "source": [
    "html = browser.html\n",
    "soup = BeautifulSoup(html, 'html.parser')\n",
    "\n"
   ]
  },
  {
   "cell_type": "code",
   "execution_count": 5,
   "metadata": {},
   "outputs": [],
   "source": [
    "news_articles = soup.find('ul', class_='item_list')\n",
    "articles = news_articles.find('li')"
   ]
  },
  {
   "cell_type": "code",
   "execution_count": 6,
   "metadata": {},
   "outputs": [
    {
     "data": {
      "text/plain": [
       "<ul class=\"item_list\"><li class=\"slide\"><div class=\"image_and_description_container\"><a href=\"/news/8641/nasas-perseverance-mars-rover-gets-its-wheels-and-air-brakes/\" target=\"_self\"><div class=\"rollover_description\"><div class=\"rollover_description_inner\">After the rover was shipped from JPL to Kennedy Space Center, the team is getting closer to finalizing the spacecraft for launch later this summer.</div><div class=\"overlay_arrow\"><img alt=\"More\" src=\"/assets/overlay-arrow.png\"/></div></div><div class=\"list_image\"><img alt=\"An image of three of the six flight wheels that will travel to Mars\" src=\"/system/news_items/list_view_images/8641_PIA-23821-320x240.jpg\"/></div><div class=\"bottom_gradient\"><div><h3>NASA's Perseverance Mars Rover Gets Its Wheels and Air Brakes</h3></div></div></a><div class=\"list_text\"><div class=\"list_date\">April  3, 2020</div><div class=\"content_title\"><a href=\"/news/8641/nasas-perseverance-mars-rover-gets-its-wheels-and-air-brakes/\" target=\"_self\">NASA's Perseverance Mars Rover Gets Its Wheels and Air Brakes</a></div><div class=\"article_teaser_body\">After the rover was shipped from JPL to Kennedy Space Center, the team is getting closer to finalizing the spacecraft for launch later this summer.</div></div></div></li><li class=\"slide\"><div class=\"image_and_description_container\"><a href=\"/news/8639/the-man-who-wanted-to-fly-on-mars/\" target=\"_self\"><div class=\"rollover_description\"><div class=\"rollover_description_inner\">The Mars Helicopter is riding to the Red Planet this summer with NASA's Perseverance rover. The helicopter's chief engineer, Bob Balaram, shares the saga of how it came into being.</div><div class=\"overlay_arrow\"><img alt=\"More\" src=\"/assets/overlay-arrow.png\"/></div></div><div class=\"list_image\"><img alt=\"Image of Bob Balaram on the left and the Mars Helicopter model to the right.\" src=\"/system/news_items/list_view_images/8639_bob-heli-226.jpg\"/></div><div class=\"bottom_gradient\"><div><h3>The Man Who Wanted to Fly on Mars</h3></div></div></a><div class=\"list_text\"><div class=\"list_date\">April  1, 2020</div><div class=\"content_title\"><a href=\"/news/8639/the-man-who-wanted-to-fly-on-mars/\" target=\"_self\">The Man Who Wanted to Fly on Mars</a></div><div class=\"article_teaser_body\">The Mars Helicopter is riding to the Red Planet this summer with NASA's Perseverance rover. The helicopter's chief engineer, Bob Balaram, shares the saga of how it came into being.</div></div></div></li><li class=\"slide\"><div class=\"image_and_description_container\"><a href=\"/news/8634/109-million-names-now-aboard-nasas-perseverance-mars-rover/\" target=\"_self\"><div class=\"rollover_description\"><div class=\"rollover_description_inner\">As part of NASA's 'Send Your Name to Mars' campaign, they've been stenciled onto three microchips along with essays from NASA's 'Name the Rover' contest. Next stop: Mars.</div><div class=\"overlay_arrow\"><img alt=\"More\" src=\"/assets/overlay-arrow.png\"/></div></div><div class=\"list_image\"><img alt=\"A placard commemorating NASA's &quot;Send Your Name to Mars&quot; campaign was installed on the Persevarnce Mars rover\" src=\"/system/news_items/list_view_images/8634_PIA23769-320x240.jpg\"/></div><div class=\"bottom_gradient\"><div><h3>10.9 Million Names Now Aboard NASA's Perseverance Mars Rover</h3></div></div></a><div class=\"list_text\"><div class=\"list_date\">March 26, 2020</div><div class=\"content_title\"><a href=\"/news/8634/109-million-names-now-aboard-nasas-perseverance-mars-rover/\" target=\"_self\">10.9 Million Names Now Aboard NASA's Perseverance Mars Rover</a></div><div class=\"article_teaser_body\">As part of NASA's 'Send Your Name to Mars' campaign, they've been stenciled onto three microchips along with essays from NASA's 'Name the Rover' contest. Next stop: Mars.</div></div></div></li><li class=\"slide\"><div class=\"image_and_description_container\"><a href=\"/news/8631/nasas-curiosity-mars-rover-takes-a-new-selfie-before-record-climb/\" target=\"_self\"><div class=\"rollover_description\"><div class=\"rollover_description_inner\">Along with capturing an image before its steepest ascent ever, the robotic explorer filmed its \"selfie stick,\" or robotic arm, in action.</div><div class=\"overlay_arrow\"><img alt=\"More\" src=\"/assets/overlay-arrow.png\"/></div></div><div class=\"list_image\"><img alt=\"This selfie was taken by NASA's Curiosity Mars rover on Feb. 26, 2020. The crumbling rock layer at the top of the image is the Greenheugh Pediment, which Curiosity climbed soon after taking the image.\" src=\"/system/news_items/list_view_images/8631_PIA23624_hutton-selfie-320x240.jpg\"/></div><div class=\"bottom_gradient\"><div><h3>NASA's Curiosity Mars Rover Takes a New Selfie Before Record Climb</h3></div></div></a><div class=\"list_text\"><div class=\"list_date\">March 20, 2020</div><div class=\"content_title\"><a href=\"/news/8631/nasas-curiosity-mars-rover-takes-a-new-selfie-before-record-climb/\" target=\"_self\">NASA's Curiosity Mars Rover Takes a New Selfie Before Record Climb</a></div><div class=\"article_teaser_body\">Along with capturing an image before its steepest ascent ever, the robotic explorer filmed its \"selfie stick,\" or robotic arm, in action.</div></div></div></li><li class=\"slide\"><div class=\"image_and_description_container\"><a href=\"/news/8630/nasas-mars-perseverance-rover-gets-its-sample-handling-system/\" target=\"_self\"><div class=\"rollover_description\"><div class=\"rollover_description_inner\">The system will be collecting and storing Martian rock and soil. Its installation marks another milestone in the march toward the July launch period.</div><div class=\"overlay_arrow\"><img alt=\"More\" src=\"/assets/overlay-arrow.png\"/></div></div><div class=\"list_image\"><img alt=\"NASA's Mars 2020 rover, now called Perseverance, undergoes processing at a payload servicing facility at NASA's Kennedy Space Center\" src=\"/system/news_items/list_view_images/8630_PIA23768-320x240.jpg\"/></div><div class=\"bottom_gradient\"><div><h3>NASA's Mars Perseverance Rover Gets Its Sample Handling System</h3></div></div></a><div class=\"list_text\"><div class=\"list_date\">March 19, 2020</div><div class=\"content_title\"><a href=\"/news/8630/nasas-mars-perseverance-rover-gets-its-sample-handling-system/\" target=\"_self\">NASA's Mars Perseverance Rover Gets Its Sample Handling System</a></div><div class=\"article_teaser_body\">The system will be collecting and storing Martian rock and soil. Its installation marks another milestone in the march toward the July launch period.</div></div></div></li><li class=\"slide\"><div class=\"image_and_description_container\"><a href=\"/news/8622/virginia-middle-school-student-earns-honor-of-naming-nasas-next-mars-rover/\" target=\"_self\"><div class=\"rollover_description\"><div class=\"rollover_description_inner\">NASA chose a seventh-grader from Virginia as winner of the agency's \"Name the Rover\" essay contest. Alexander Mather's entry for \"Perseverance\" was voted tops among 28,000 entries. </div><div class=\"overlay_arrow\"><img alt=\"More\" src=\"/assets/overlay-arrow.png\"/></div></div><div class=\"list_image\"><img alt=\"This illustration depicts NASA's Perseverance rover operating on the surface of Mars. Perseverance will land at the Red Planet's Jezero Crater.\" src=\"/system/news_items/list_view_images/8622_1-PIA23764-RoverNamePlateonMars-320x240.jpg\"/></div><div class=\"bottom_gradient\"><div><h3>Virginia Middle School Student Earns Honor of Naming NASA's Next Mars Rover</h3></div></div></a><div class=\"list_text\"><div class=\"list_date\">March  5, 2020</div><div class=\"content_title\"><a href=\"/news/8622/virginia-middle-school-student-earns-honor-of-naming-nasas-next-mars-rover/\" target=\"_self\">Virginia Middle School Student Earns Honor of Naming NASA's Next Mars Rover</a></div><div class=\"article_teaser_body\">NASA chose a seventh-grader from Virginia as winner of the agency's \"Name the Rover\" essay contest. Alexander Mather's entry for \"Perseverance\" was voted tops among 28,000 entries. </div></div></div></li><li class=\"slide\"><div class=\"image_and_description_container\"><a href=\"/news/8621/nasas-curiosity-mars-rover-snaps-its-highest-resolution-panorama-yet/\" target=\"_self\"><div class=\"rollover_description\"><div class=\"rollover_description_inner\">To go along with the stunning 1.8-billion-pixel image, a new video offers a sweeping view of the Red Planet.</div><div class=\"overlay_arrow\"><img alt=\"More\" src=\"/assets/overlay-arrow.png\"/></div></div><div class=\"list_image\"><img alt=\"Curiosity's 1.8-Billion-Pixel Panorama\" src=\"/system/news_items/list_view_images/8621_sol2597_2600_mosaic-320x240.jpg\"/></div><div class=\"bottom_gradient\"><div><h3>NASA's Curiosity Mars Rover Snaps Its Highest-Resolution Panorama Yet</h3></div></div></a><div class=\"list_text\"><div class=\"list_date\">March  4, 2020</div><div class=\"content_title\"><a href=\"/news/8621/nasas-curiosity-mars-rover-snaps-its-highest-resolution-panorama-yet/\" target=\"_self\">NASA's Curiosity Mars Rover Snaps Its Highest-Resolution Panorama Yet</a></div><div class=\"article_teaser_body\">To go along with the stunning 1.8-billion-pixel image, a new video offers a sweeping view of the Red Planet.</div></div></div></li><li class=\"slide\"><div class=\"image_and_description_container\"><a href=\"/news/8619/nasa-to-reveal-name-of-its-next-mars-rover/\" target=\"_self\"><div class=\"rollover_description\"><div class=\"rollover_description_inner\">After a months-long contest among students to name NASA's newest Mars rover, the agency will reveal the winning name — and the winning student — this Thursday. </div><div class=\"overlay_arrow\"><img alt=\"More\" src=\"/assets/overlay-arrow.png\"/></div></div><div class=\"list_image\"><img alt=\"This illustration depicts NASA's next Mars rover, which launches in 2020.\" src=\"/system/news_items/list_view_images/8619_8588_name20190625-320x240.jpg\"/></div><div class=\"bottom_gradient\"><div><h3>NASA to Reveal Name of Its Next Mars Rover</h3></div></div></a><div class=\"list_text\"><div class=\"list_date\">March  3, 2020</div><div class=\"content_title\"><a href=\"/news/8619/nasa-to-reveal-name-of-its-next-mars-rover/\" target=\"_self\">NASA to Reveal Name of Its Next Mars Rover</a></div><div class=\"article_teaser_body\">After a months-long contest among students to name NASA's newest Mars rover, the agency will reveal the winning name — and the winning student — this Thursday. </div></div></div></li><li class=\"slide\"><div class=\"image_and_description_container\"><a href=\"/news/8408/the-marco-mission-comes-to-an-end/\" target=\"_self\"><div class=\"rollover_description\"><div class=\"rollover_description_inner\">The pair of briefcase-sized satellites made history when they sailed past Mars in 2019.</div><div class=\"overlay_arrow\"><img alt=\"More\" src=\"/assets/overlay-arrow.png\"/></div></div><div class=\"list_image\"><img alt=\"MarCO-B, one of the experimental Mars Cube One (MarCO) CubeSats, took these images as it approached Mars.\" src=\"/system/news_items/list_view_images/8408_22206_PIA22655-th.gif\"/></div><div class=\"bottom_gradient\"><div><h3>The MarCO Mission Comes to an End</h3></div></div></a><div class=\"list_text\"><div class=\"list_date\">February 27, 2020</div><div class=\"content_title\"><a href=\"/news/8408/the-marco-mission-comes-to-an-end/\" target=\"_self\">The MarCO Mission Comes to an End</a></div><div class=\"article_teaser_body\">The pair of briefcase-sized satellites made history when they sailed past Mars in 2019.</div></div></div></li><li class=\"slide\"><div class=\"image_and_description_container\"><a href=\"/news/8613/a-year-of-surprising-science-from-nasas-insight-mars-mission/\" target=\"_self\"><div class=\"rollover_description\"><div class=\"rollover_description_inner\">A batch of new papers summarizes the lander's findings above and below the surface of the Red Planet.</div><div class=\"overlay_arrow\"><img alt=\"More\" src=\"/assets/overlay-arrow.png\"/></div></div><div class=\"list_image\"><img alt=\"In this artist's concept of NASA's InSight lander on Mars, layers of the planet's subsurface can be seen below and dust devils can be seen in the background.\" src=\"/system/news_items/list_view_images/8613_InSight-Nature-papers-320x240.jpg\"/></div><div class=\"bottom_gradient\"><div><h3>A Year of Surprising Science From NASA's InSight Mars Mission</h3></div></div></a><div class=\"list_text\"><div class=\"list_date\">February 24, 2020</div><div class=\"content_title\"><a href=\"/news/8613/a-year-of-surprising-science-from-nasas-insight-mars-mission/\" target=\"_self\">A Year of Surprising Science From NASA's InSight Mars Mission</a></div><div class=\"article_teaser_body\">A batch of new papers summarizes the lander's findings above and below the surface of the Red Planet.</div></div></div></li><li class=\"slide\"><div class=\"image_and_description_container\"><a href=\"/news/8612/mars-insight-lander-to-push-on-top-of-the-mole/\" target=\"_self\"><div class=\"rollover_description\"><div class=\"rollover_description_inner\">Engineers have a plan for pushing down on the heat probe, which has been stuck at the Martian surface for a year.</div><div class=\"overlay_arrow\"><img alt=\"More\" src=\"/assets/overlay-arrow.png\"/></div></div><div class=\"list_image\"><img alt=\"InSight Prepares to Push on the Mole\" src=\"/system/news_items/list_view_images/8612_Sol427-437_backcap_push_positioning-320x240.gif\"/></div><div class=\"bottom_gradient\"><div><h3>Mars InSight Lander to Push on Top of the 'Mole'</h3></div></div></a><div class=\"list_text\"><div class=\"list_date\">February 21, 2020</div><div class=\"content_title\"><a href=\"/news/8612/mars-insight-lander-to-push-on-top-of-the-mole/\" target=\"_self\">Mars InSight Lander to Push on Top of the 'Mole'</a></div><div class=\"article_teaser_body\">Engineers have a plan for pushing down on the heat probe, which has been stuck at the Martian surface for a year.</div></div></div></li><li class=\"slide\"><div class=\"image_and_description_container\"><a href=\"/news/8444/common-questions-about-insights-mole/\" target=\"_self\"><div class=\"rollover_description\"><div class=\"rollover_description_inner\">The following Q&amp;As with members of the team answer some of the most common questions about the burrowing device, part of a science instrument called the Heat Flow and Physical Properties Package (HP3).</div><div class=\"overlay_arrow\"><img alt=\"More\" src=\"/assets/overlay-arrow.png\"/></div></div><div class=\"list_image\"><img alt=\"NASA's Mars InSight lander recently moved its robotic arm closer to the heat probe's digging device, called the &quot;mole,&quot; in preparation to push on its top, or back cap.\" src=\"/system/news_items/list_view_images/8444_Sol427-437_backcap_push_positioning-320x240.gif\"/></div><div class=\"bottom_gradient\"><div><h3>Common Questions about InSight's 'Mole'</h3></div></div></a><div class=\"list_text\"><div class=\"list_date\">February 21, 2020</div><div class=\"content_title\"><a href=\"/news/8444/common-questions-about-insights-mole/\" target=\"_self\">Common Questions about InSight's 'Mole'</a></div><div class=\"article_teaser_body\">The following Q&amp;As with members of the team answer some of the most common questions about the burrowing device, part of a science instrument called the Heat Flow and Physical Properties Package (HP3).</div></div></div></li><li class=\"slide\"><div class=\"image_and_description_container\"><a href=\"/news/8611/nasa-adds-return-sample-scientists-to-mars-2020-leadership-team/\" target=\"_self\"><div class=\"rollover_description\"><div class=\"rollover_description_inner\">The leadership council for Mars 2020 science added two new members who represent the interests of scientists destined to handle and study the first samples from Red Planet.</div><div class=\"overlay_arrow\"><img alt=\"More\" src=\"/assets/overlay-arrow.png\"/></div></div><div class=\"list_image\"><img alt=\"Mars 2020 Rover Collecting Samples\" src=\"/system/news_items/list_view_images/8611_PIA22111-320x240.jpg\"/></div><div class=\"bottom_gradient\"><div><h3>NASA Adds Return Sample Scientists to Mars 2020 Leadership Team</h3></div></div></a><div class=\"list_text\"><div class=\"list_date\">February 20, 2020</div><div class=\"content_title\"><a href=\"/news/8611/nasa-adds-return-sample-scientists-to-mars-2020-leadership-team/\" target=\"_self\">NASA Adds Return Sample Scientists to Mars 2020 Leadership Team</a></div><div class=\"article_teaser_body\">The leadership council for Mars 2020 science added two new members who represent the interests of scientists destined to handle and study the first samples from Red Planet.</div></div></div></li><li class=\"slide\"><div class=\"image_and_description_container\"><a href=\"/news/8609/nasas-mars-reconnaissance-orbiter-undergoes-memory-update/\" target=\"_self\"><div class=\"rollover_description\"><div class=\"rollover_description_inner\">Other orbiters will continue relaying data from Mars surface missions for a two-week period.</div><div class=\"overlay_arrow\"><img alt=\"More\" src=\"/assets/overlay-arrow.png\"/></div></div><div class=\"list_image\"><img alt=\"Artist concept of Mars Reconnaissance Orbiter\" src=\"/system/news_items/list_view_images/8609_list_image.jpg\"/></div><div class=\"bottom_gradient\"><div><h3>NASA's Mars Reconnaissance Orbiter Undergoes Memory Update</h3></div></div></a><div class=\"list_text\"><div class=\"list_date\">February 18, 2020</div><div class=\"content_title\"><a href=\"/news/8609/nasas-mars-reconnaissance-orbiter-undergoes-memory-update/\" target=\"_self\">NASA's Mars Reconnaissance Orbiter Undergoes Memory Update</a></div><div class=\"article_teaser_body\">Other orbiters will continue relaying data from Mars surface missions for a two-week period.</div></div></div></li><li class=\"slide\"><div class=\"image_and_description_container\"><a href=\"/news/8607/nasas-mars-2020-rover-goes-coast-to-coast-to-prep-for-launch/\" target=\"_self\"><div class=\"rollover_description\"><div class=\"rollover_description_inner\">The agency's first step in returning rocks from Mars just arrived at Kennedy Space Center. The Mars 2020 team now begins readying for a launch to the Red Planet this July.</div><div class=\"overlay_arrow\"><img alt=\"More\" src=\"/assets/overlay-arrow.png\"/></div></div><div class=\"list_image\"><img alt=\"Seeing the Mars 2020 Rover Off\" src=\"/system/news_items/list_view_images/8607_PIA23591-320x240.jpg\"/></div><div class=\"bottom_gradient\"><div><h3>NASA's Mars 2020 Rover Goes Coast-to-Coast to Prep for Launch</h3></div></div></a><div class=\"list_text\"><div class=\"list_date\">February 12, 2020</div><div class=\"content_title\"><a href=\"/news/8607/nasas-mars-2020-rover-goes-coast-to-coast-to-prep-for-launch/\" target=\"_self\">NASA's Mars 2020 Rover Goes Coast-to-Coast to Prep for Launch</a></div><div class=\"article_teaser_body\">The agency's first step in returning rocks from Mars just arrived at Kennedy Space Center. The Mars 2020 team now begins readying for a launch to the Red Planet this July.</div></div></div></li><li class=\"slide\"><div class=\"image_and_description_container\"><a href=\"/news/8606/nasa-prepares-for-moon-and-mars-with-new-addition-to-its-deep-space-network/\" target=\"_self\"><div class=\"rollover_description\"><div class=\"rollover_description_inner\">Robotic spacecraft will be able to communicate with the dish using radio waves and lasers.</div><div class=\"overlay_arrow\"><img alt=\"More\" src=\"/assets/overlay-arrow.png\"/></div></div><div class=\"list_image\"><img alt=\"\" src=\"/system/news_items/list_view_images/8606_list_image.jpg\"/></div><div class=\"bottom_gradient\"><div><h3>NASA Prepares for Moon and Mars With New Addition to Its Deep Space Network</h3></div></div></a><div class=\"list_text\"><div class=\"list_date\">February 11, 2020</div><div class=\"content_title\"><a href=\"/news/8606/nasa-prepares-for-moon-and-mars-with-new-addition-to-its-deep-space-network/\" target=\"_self\">NASA Prepares for Moon and Mars With New Addition to Its Deep Space Network</a></div><div class=\"article_teaser_body\">Robotic spacecraft will be able to communicate with the dish using radio waves and lasers.</div></div></div></li><li class=\"slide\"><div class=\"image_and_description_container\"><a href=\"/news/8603/nasa-administrator-statement-on-moon-to-mars-initiative-fy-2021-budget/\" target=\"_self\"><div class=\"rollover_description\"><div class=\"rollover_description_inner\">Jim Bridenstine addresses NASA's ambitious plans for the coming years, including Mars Sample Return.</div><div class=\"overlay_arrow\"><img alt=\"More\" src=\"/assets/overlay-arrow.png\"/></div></div><div class=\"list_image\"><img alt=\"NASA Administrator Jim Bridenstine delivers the State of NASA address\" src=\"/system/news_items/list_view_images/8603_list_image.jpg\"/></div><div class=\"bottom_gradient\"><div><h3>NASA Administrator Statement on Moon to Mars Initiative, FY 2021 Budget</h3></div></div></a><div class=\"list_text\"><div class=\"list_date\">February 10, 2020</div><div class=\"content_title\"><a href=\"/news/8603/nasa-administrator-statement-on-moon-to-mars-initiative-fy-2021-budget/\" target=\"_self\">NASA Administrator Statement on Moon to Mars Initiative, FY 2021 Budget</a></div><div class=\"article_teaser_body\">Jim Bridenstine addresses NASA's ambitious plans for the coming years, including Mars Sample Return.</div></div></div></li><li class=\"slide\"><div class=\"image_and_description_container\"><a href=\"/news/8601/all-about-the-laser-and-microphone-atop-mars-2020-nasas-next-rover/\" target=\"_self\"><div class=\"rollover_description\"><div class=\"rollover_description_inner\">SuperCam is a rock-vaporizing instrument that will help scientists hunt for Mars fossils.</div><div class=\"overlay_arrow\"><img alt=\"More\" src=\"/assets/overlay-arrow.png\"/></div></div><div class=\"list_image\"><img alt=\"Mars 2020's mast, or &quot;head,&quot; includes a laser instrument called SuperCam that can vaporize rock material and study the resulting plasma. \" src=\"/system/news_items/list_view_images/8601_PIA23316-320x240.jpg\"/></div><div class=\"bottom_gradient\"><div><h3>All About the Laser (and Microphone) Atop Mars 2020, NASA's Next Rover</h3></div></div></a><div class=\"list_text\"><div class=\"list_date\">February  7, 2020</div><div class=\"content_title\"><a href=\"/news/8601/all-about-the-laser-and-microphone-atop-mars-2020-nasas-next-rover/\" target=\"_self\">All About the Laser (and Microphone) Atop Mars 2020, NASA's Next Rover</a></div><div class=\"article_teaser_body\">SuperCam is a rock-vaporizing instrument that will help scientists hunt for Mars fossils.</div></div></div></li><li class=\"slide\"><div class=\"image_and_description_container\"><a href=\"/news/8596/nasas-maven-explores-mars-to-understand-radio-interference-at-earth/\" target=\"_self\"><div class=\"rollover_description\"><div class=\"rollover_description_inner\">NASA’s MAVEN spacecraft has discovered “layers” and “rifts” in the electrically charged part of the upper atmosphere of Mars.</div><div class=\"overlay_arrow\"><img alt=\"More\" src=\"/assets/overlay-arrow.png\"/></div></div><div class=\"list_image\"><img alt=\"\" src=\"/system/news_items/list_view_images/8596_mavenatmars-320x240.jpg\"/></div><div class=\"bottom_gradient\"><div><h3>NASA's MAVEN Explores Mars to Understand Radio Interference at Earth</h3></div></div></a><div class=\"list_text\"><div class=\"list_date\">February  3, 2020</div><div class=\"content_title\"><a href=\"/news/8596/nasas-maven-explores-mars-to-understand-radio-interference-at-earth/\" target=\"_self\">NASA's MAVEN Explores Mars to Understand Radio Interference at Earth</a></div><div class=\"article_teaser_body\">NASA’s MAVEN spacecraft has discovered “layers” and “rifts” in the electrically charged part of the upper atmosphere of Mars.</div></div></div></li><li class=\"slide\"><div class=\"image_and_description_container\"><a href=\"/news/8588/nine-finalists-chosen-in-nasas-mars-2020-rover-naming-contest/\" target=\"_self\"><div class=\"rollover_description\"><div class=\"rollover_description_inner\">Nine finalists have been chosen in the essay contest for K-12 students across U.S. to name NASA's next Mars rover. Now you can help by voting for your favorite. </div><div class=\"overlay_arrow\"><img alt=\"More\" src=\"/assets/overlay-arrow.png\"/></div></div><div class=\"list_image\"><img alt=\"This illustration depicts NASA's next Mars rover, which launches in 2020.\" src=\"/system/news_items/list_view_images/8588_name20190625-320x240.jpg\"/></div><div class=\"bottom_gradient\"><div><h3>Nine Finalists Chosen in NASA's Mars 2020 Rover Naming Contest</h3></div></div></a><div class=\"list_text\"><div class=\"list_date\">January 21, 2020</div><div class=\"content_title\"><a href=\"/news/8588/nine-finalists-chosen-in-nasas-mars-2020-rover-naming-contest/\" target=\"_self\">Nine Finalists Chosen in NASA's Mars 2020 Rover Naming Contest</a></div><div class=\"article_teaser_body\">Nine finalists have been chosen in the essay contest for K-12 students across U.S. to name NASA's next Mars rover. Now you can help by voting for your favorite. </div></div></div></li><li class=\"slide\"><div class=\"image_and_description_container\"><a href=\"/news/8585/nasas-mars-2020-rover-closer-to-getting-its-name/\" target=\"_self\"><div class=\"rollover_description\"><div class=\"rollover_description_inner\">155 students from across the U.S. have been chosen as semifinalists in NASA's essay contest to name the Mars 2020 rover, and see it launch from Cape Canaveral this July.</div><div class=\"overlay_arrow\"><img alt=\"More\" src=\"/assets/overlay-arrow.png\"/></div></div><div class=\"list_image\"><img alt=\"This illustration depicts NASA's next Mars rover, which launches in 2020.\" src=\"/system/news_items/list_view_images/8585_name20190625-320x240.jpg\"/></div><div class=\"bottom_gradient\"><div><h3>NASA's Mars 2020 Rover Closer to Getting Its Name</h3></div></div></a><div class=\"list_text\"><div class=\"list_date\">January 13, 2020</div><div class=\"content_title\"><a href=\"/news/8585/nasas-mars-2020-rover-closer-to-getting-its-name/\" target=\"_self\">NASA's Mars 2020 Rover Closer to Getting Its Name</a></div><div class=\"article_teaser_body\">155 students from across the U.S. have been chosen as semifinalists in NASA's essay contest to name the Mars 2020 rover, and see it launch from Cape Canaveral this July.</div></div></div></li><li class=\"slide\"><div class=\"image_and_description_container\"><a href=\"/news/8578/media-get-a-close-up-of-nasas-mars-2020-rover/\" target=\"_self\"><div class=\"rollover_description\"><div class=\"rollover_description_inner\">The clean room at NASA's Jet Propulsion Laboratory was open to the media to see NASA's next Mars explorer before it leaves for Florida in preparation for a summertime launch.</div><div class=\"overlay_arrow\"><img alt=\"More\" src=\"/assets/overlay-arrow.png\"/></div></div><div class=\"list_image\"><img alt=\"Members of the media interview the builders of the Mars 2020 mission inside JPL's clean room.\" src=\"/system/news_items/list_view_images/8578_24741_PIA23586-SAFfloor-MAIN-16_320x240px.jpg\"/></div><div class=\"bottom_gradient\"><div><h3>Media Get a Close-Up of NASA's Mars 2020 Rover</h3></div></div></a><div class=\"list_text\"><div class=\"list_date\">December 27, 2019</div><div class=\"content_title\"><a href=\"/news/8578/media-get-a-close-up-of-nasas-mars-2020-rover/\" target=\"_self\">Media Get a Close-Up of NASA's Mars 2020 Rover</a></div><div class=\"article_teaser_body\">The clean room at NASA's Jet Propulsion Laboratory was open to the media to see NASA's next Mars explorer before it leaves for Florida in preparation for a summertime launch.</div></div></div></li><li class=\"slide\"><div class=\"image_and_description_container\"><a href=\"/news/8575/space-history-is-made-in-this-nasa-robot-factory/\" target=\"_self\"><div class=\"rollover_description\"><div class=\"rollover_description_inner\">From rockets to rovers, JPL's Spacecraft Assembly Facility has been at the center of robotic spaceflight. Here's a closer look at what makes it so special.</div><div class=\"overlay_arrow\"><img alt=\"More\" src=\"/assets/overlay-arrow.png\"/></div></div><div class=\"list_image\"><img alt=\"The Mars 2020 rover in the High Bay 1 clean room at JPL.\" src=\"/system/news_items/list_view_images/8575_PIA23519-SAF-unannot-320x240.jpg\"/></div><div class=\"bottom_gradient\"><div><h3>Space History Is Made in This NASA Robot Factory</h3></div></div></a><div class=\"list_text\"><div class=\"list_date\">December 23, 2019</div><div class=\"content_title\"><a href=\"/news/8575/space-history-is-made-in-this-nasa-robot-factory/\" target=\"_self\">Space History Is Made in This NASA Robot Factory</a></div><div class=\"article_teaser_body\">From rockets to rovers, JPL's Spacecraft Assembly Facility has been at the center of robotic spaceflight. Here's a closer look at what makes it so special.</div></div></div></li><li class=\"slide\"><div class=\"image_and_description_container\"><a href=\"/news/8573/nasas-mars-2020-rover-completes-its-first-drive/\" target=\"_self\"><div class=\"rollover_description\"><div class=\"rollover_description_inner\">In a 10-plus-hour marathon, the rover steered, turned and drove in 3-foot (1-meter) increments over small ramps.</div><div class=\"overlay_arrow\"><img alt=\"More\" src=\"/assets/overlay-arrow.png\"/></div></div><div class=\"list_image\"><img alt=\"In a clean room at NASA's Jet Propulsion Laboratory in Pasadena, California, engineers observed the first driving test for NASA's Mars 2020 rover on Dec. 17, 2019. \" src=\"/system/news_items/list_view_images/8573_PIA23499-226.jpg\"/></div><div class=\"bottom_gradient\"><div><h3>NASA's Mars 2020 Rover Completes Its First Drive</h3></div></div></a><div class=\"list_text\"><div class=\"list_date\">December 18, 2019</div><div class=\"content_title\"><a href=\"/news/8573/nasas-mars-2020-rover-completes-its-first-drive/\" target=\"_self\">NASA's Mars 2020 Rover Completes Its First Drive</a></div><div class=\"article_teaser_body\">In a 10-plus-hour marathon, the rover steered, turned and drove in 3-foot (1-meter) increments over small ramps.</div></div></div></li><li class=\"slide\"><div class=\"image_and_description_container\"><a href=\"/news/8595/nasas-maven-maps-winds-in-the-martian-upper-atmosphere-that-mirror-the-terrain-below-and-gives-clues/\" target=\"_self\"><div class=\"rollover_description\"><div class=\"rollover_description_inner\">Researchers have created the first map of wind circulation in the upper atmosphere of a planet besides Earth, using data from NASA’s MAVEN spacecraft that were collected during the last two years.</div><div class=\"overlay_arrow\"><img alt=\"More\" src=\"/assets/overlay-arrow.png\"/></div></div><div class=\"list_image\"><img alt=\"\" src=\"/system/news_items/list_view_images/8595_mars_winds_preview_4-320x240.jpg\"/></div><div class=\"bottom_gradient\"><div><h3>NASA's MAVEN Maps Winds in the Martian Upper Atmosphere that Mirror the Terrain Below and Gives Clues to Martian Climate</h3></div></div></a><div class=\"list_text\"><div class=\"list_date\">December 12, 2019</div><div class=\"content_title\"><a href=\"/news/8595/nasas-maven-maps-winds-in-the-martian-upper-atmosphere-that-mirror-the-terrain-below-and-gives-clues/\" target=\"_self\">NASA's MAVEN Maps Winds in the Martian Upper Atmosphere that Mirror the Terrain Below and Gives Clues to Martian Climate</a></div><div class=\"article_teaser_body\">Researchers have created the first map of wind circulation in the upper atmosphere of a planet besides Earth, using data from NASA’s MAVEN spacecraft that were collected during the last two years.</div></div></div></li><li class=\"slide\"><div class=\"image_and_description_container\"><a href=\"/news/8594/newfound-martian-aurora-actually-the-most-common-sheds-light-on-mars-changing-climate/\" target=\"_self\"><div class=\"rollover_description\"><div class=\"rollover_description_inner\">A type of Martian aurora first identified by NASA’s MAVEN spacecraft in 2016 is actually the most common form of aurora occurring on the Red Planet, according to new results from the mission.</div><div class=\"overlay_arrow\"><img alt=\"More\" src=\"/assets/overlay-arrow.png\"/></div></div><div class=\"list_image\"><img alt=\"\" src=\"/system/news_items/list_view_images/8594_apo_proton_aurora_no_text-320x240.jpg\"/></div><div class=\"bottom_gradient\"><div><h3>Newfound Martian Aurora Actually the Most Common; Sheds Light on Mars' Changing Climate</h3></div></div></a><div class=\"list_text\"><div class=\"list_date\">December 12, 2019</div><div class=\"content_title\"><a href=\"/news/8594/newfound-martian-aurora-actually-the-most-common-sheds-light-on-mars-changing-climate/\" target=\"_self\">Newfound Martian Aurora Actually the Most Common; Sheds Light on Mars' Changing Climate</a></div><div class=\"article_teaser_body\">A type of Martian aurora first identified by NASA’s MAVEN spacecraft in 2016 is actually the most common form of aurora occurring on the Red Planet, according to new results from the mission.</div></div></div></li><li class=\"slide\"><div class=\"image_and_description_container\"><a href=\"/news/8568/nasas-treasure-map-for-water-ice-on-mars/\" target=\"_self\"><div class=\"rollover_description\"><div class=\"rollover_description_inner\">A new study identifies frozen water just below the Martian surface, where astronauts could easily dig it up.</div><div class=\"overlay_arrow\"><img alt=\"More\" src=\"/assets/overlay-arrow.png\"/></div></div><div class=\"list_image\"><img alt=\"\" src=\"/system/news_items/list_view_images/8568_PIA23515_annotated-globe-320x240.gif\"/></div><div class=\"bottom_gradient\"><div><h3>NASA's Treasure Map for Water Ice on Mars</h3></div></div></a><div class=\"list_text\"><div class=\"list_date\">December 10, 2019</div><div class=\"content_title\"><a href=\"/news/8568/nasas-treasure-map-for-water-ice-on-mars/\" target=\"_self\">NASA's Treasure Map for Water Ice on Mars</a></div><div class=\"article_teaser_body\">A new study identifies frozen water just below the Martian surface, where astronauts could easily dig it up.</div></div></div></li><li class=\"slide\"><div class=\"image_and_description_container\"><a href=\"/news/8567/two-rovers-to-roll-on-mars-again-curiosity-and-mars-2020/\" target=\"_self\"><div class=\"rollover_description\"><div class=\"rollover_description_inner\">They look like twins. But under the hood, the rover currently exploring the Red Planet and the one launching there this summer have distinct science tools and roles to play.</div><div class=\"overlay_arrow\"><img alt=\"More\" src=\"/assets/overlay-arrow.png\"/></div></div><div class=\"list_image\"><img alt=\"Illustrations of NASA's Curiosity and Mars 2020 rovers. \" src=\"/system/news_items/list_view_images/8567_PIA23517-320x240.jpg\"/></div><div class=\"bottom_gradient\"><div><h3>Two Rovers to Roll on Mars Again: Curiosity and Mars 2020</h3></div></div></a><div class=\"list_text\"><div class=\"list_date\">December 10, 2019</div><div class=\"content_title\"><a href=\"/news/8567/two-rovers-to-roll-on-mars-again-curiosity-and-mars-2020/\" target=\"_self\">Two Rovers to Roll on Mars Again: Curiosity and Mars 2020</a></div><div class=\"article_teaser_body\">They look like twins. But under the hood, the rover currently exploring the Red Planet and the one launching there this summer have distinct science tools and roles to play.</div></div></div></li><li class=\"slide\"><div class=\"image_and_description_container\"><a href=\"/news/8561/nasas-briefcase-size-marco-satellite-picks-up-honors/\" target=\"_self\"><div class=\"rollover_description\"><div class=\"rollover_description_inner\">The twin spacecraft, the first of their kind to fly into deep space, earn a Laureate from Aviation Week &amp; Space Technology.</div><div class=\"overlay_arrow\"><img alt=\"More\" src=\"/assets/overlay-arrow.png\"/></div></div><div class=\"list_image\"><img alt=\"Engineer Joel Steinkraus tests the solar arrays on one of the Mars Cube One \" src=\"/system/news_items/list_view_images/8561_MarCO-32x24.jpg\"/></div><div class=\"bottom_gradient\"><div><h3>NASA's Briefcase-Size MarCO Satellite Picks Up Honors</h3></div></div></a><div class=\"list_text\"><div class=\"list_date\">November 27, 2019</div><div class=\"content_title\"><a href=\"/news/8561/nasas-briefcase-size-marco-satellite-picks-up-honors/\" target=\"_self\">NASA's Briefcase-Size MarCO Satellite Picks Up Honors</a></div><div class=\"article_teaser_body\">The twin spacecraft, the first of their kind to fly into deep space, earn a Laureate from Aviation Week &amp; Space Technology.</div></div></div></li><li class=\"slide\"><div class=\"image_and_description_container\"><a href=\"/news/8558/global-storms-on-mars-launch-dust-towers-into-the-sky/\" target=\"_self\"><div class=\"rollover_description\"><div class=\"rollover_description_inner\">A Mars Dust Tower Stands Out Dust storms are common on Mars. But every decade or so, something unpredictable happens: a series of runaway storms break out, covering the entire planet in a dusty haze.</div><div class=\"overlay_arrow\"><img alt=\"More\" src=\"/assets/overlay-arrow.png\"/></div></div><div class=\"list_image\"><img alt=\"Dust storms on Mars.\" src=\"/system/news_items/list_view_images/8558_PIA23513-32x24.jpg\"/></div><div class=\"bottom_gradient\"><div><h3>Global Storms on Mars Launch Dust Towers Into the Sky</h3></div></div></a><div class=\"list_text\"><div class=\"list_date\">November 26, 2019</div><div class=\"content_title\"><a href=\"/news/8558/global-storms-on-mars-launch-dust-towers-into-the-sky/\" target=\"_self\">Global Storms on Mars Launch Dust Towers Into the Sky</a></div><div class=\"article_teaser_body\">A Mars Dust Tower Stands Out Dust storms are common on Mars. But every decade or so, something unpredictable happens: a series of runaway storms break out, covering the entire planet in a dusty haze.</div></div></div></li><li class=\"slide\"><div class=\"image_and_description_container\"><a href=\"/news/8556/nasa-updates-mars-2020-mission-environmental-review/\" target=\"_self\"><div class=\"rollover_description\"><div class=\"rollover_description_inner\">NASA and the Department of Energy have completed a more detailed risk analysis for the Mars 2020 rover launch from Florida.</div><div class=\"overlay_arrow\"><img alt=\"More\" src=\"/assets/overlay-arrow.png\"/></div></div><div class=\"list_image\"><img alt=\"The electricity needed to operate NASA's Mars 2020 rover (pictured here) is provided by a power system called a Multi-Mission Radioisotope Thermoelectric Generator, or MMRTG.\" src=\"/system/news_items/list_view_images/8556_PIA23305_320x240px.jpg\"/></div><div class=\"bottom_gradient\"><div><h3>NASA Updates Mars 2020 Mission Environmental Review</h3></div></div></a><div class=\"list_text\"><div class=\"list_date\">November 21, 2019</div><div class=\"content_title\"><a href=\"/news/8556/nasa-updates-mars-2020-mission-environmental-review/\" target=\"_self\">NASA Updates Mars 2020 Mission Environmental Review</a></div><div class=\"article_teaser_body\">NASA and the Department of Energy have completed a more detailed risk analysis for the Mars 2020 rover launch from Florida.</div></div></div></li><li class=\"slide\"><div class=\"image_and_description_container\"><a href=\"/news/8554/two-of-a-space-kind-apollo-12-and-mars-2020/\" target=\"_self\"><div class=\"rollover_description\"><div class=\"rollover_description_inner\">Apollo 12 and the upcoming Mars 2020 mission may be separated by half a century, but they share several goals unique in the annals of space exploration.</div><div class=\"overlay_arrow\"><img alt=\"More\" src=\"/assets/overlay-arrow.png\"/></div></div><div class=\"list_image\"><img alt=\"(Left) Apollo 12 astronaut Charles “Pete” Conrad Jr. stands beside NASA's Surveyor 3 spacecraft; the lunar module Intrepid can be seen in the distance. Apollo 12 landed on the Moon's Ocean of Storms on Nov. 20, 1969. (Right) Mars 2020 rover, seen here in an artist's concept, will make history's most accurate landing on a planetary body when it lands at Mars' Jezero Crater on Feb. 18, 2021.\" src=\"/system/news_items/list_view_images/8554_PIA23553-320x240.jpg\"/></div><div class=\"bottom_gradient\"><div><h3>Two of a Space Kind: Apollo 12 and Mars 2020</h3></div></div></a><div class=\"list_text\"><div class=\"list_date\">November 20, 2019</div><div class=\"content_title\"><a href=\"/news/8554/two-of-a-space-kind-apollo-12-and-mars-2020/\" target=\"_self\">Two of a Space Kind: Apollo 12 and Mars 2020</a></div><div class=\"article_teaser_body\">Apollo 12 and the upcoming Mars 2020 mission may be separated by half a century, but they share several goals unique in the annals of space exploration.</div></div></div></li><li class=\"slide\"><div class=\"image_and_description_container\"><a href=\"/news/8551/mars-scientists-investigate-ancient-life-in-australia/\" target=\"_self\"><div class=\"rollover_description\"><div class=\"rollover_description_inner\">Teams with NASA's Mars 2020 and ESA's ExoMars practiced hunting for fossilized microbial life in the Australian Outback in preparation for their Red Planet missions. </div><div class=\"overlay_arrow\"><img alt=\"More\" src=\"/assets/overlay-arrow.png\"/></div></div><div class=\"list_image\"><img alt=\"NASA and ESA scientists study stromatolites, the oldest confirmed fossilized lifeforms on Earth, in the Pilbara region of North West Australia.\" src=\"/system/news_items/list_view_images/8551_PIA23551-320x240.jpg\"/></div><div class=\"bottom_gradient\"><div><h3>Mars Scientists Investigate Ancient Life in Australia</h3></div></div></a><div class=\"list_text\"><div class=\"list_date\">November 15, 2019</div><div class=\"content_title\"><a href=\"/news/8551/mars-scientists-investigate-ancient-life-in-australia/\" target=\"_self\">Mars Scientists Investigate Ancient Life in Australia</a></div><div class=\"article_teaser_body\">Teams with NASA's Mars 2020 and ESA's ExoMars practiced hunting for fossilized microbial life in the Australian Outback in preparation for their Red Planet missions. </div></div></div></li><li class=\"slide\"><div class=\"image_and_description_container\"><a href=\"/news/8549/nasas-mars-2020-will-hunt-for-microscopic-fossils/\" target=\"_self\"><div class=\"rollover_description\"><div class=\"rollover_description_inner\">A new paper identifies a ring of minerals at the rover's landing site that are ideal for fossilizing microbial life.</div><div class=\"overlay_arrow\"><img alt=\"More\" src=\"/assets/overlay-arrow.png\"/></div></div><div class=\"list_image\"><img alt=\"Lighter colors represent higher elevation in this image of Jezero Crater on Mars, the landing site for NASA's Mars 2020 mission.\" src=\"/system/news_items/list_view_images/8549_PIA23511-320x240.jpg\"/></div><div class=\"bottom_gradient\"><div><h3>NASA's Mars 2020 Will Hunt for Microscopic Fossils</h3></div></div></a><div class=\"list_text\"><div class=\"list_date\">November 12, 2019</div><div class=\"content_title\"><a href=\"/news/8549/nasas-mars-2020-will-hunt-for-microscopic-fossils/\" target=\"_self\">NASA's Mars 2020 Will Hunt for Microscopic Fossils</a></div><div class=\"article_teaser_body\">A new paper identifies a ring of minerals at the rover's landing site that are ideal for fossilizing microbial life.</div></div></div></li><li class=\"slide\"><div class=\"image_and_description_container\"><a href=\"/news/8548/with-mars-methane-mystery-unsolved-curiosity-serves-scientists-a-new-one-oxygen/\" target=\"_self\"><div class=\"rollover_description\"><div class=\"rollover_description_inner\">For the first time in the history of space exploration, scientists have measured the seasonal changes in the gases that fill the air directly above the surface of Gale Crater on Mars. </div><div class=\"overlay_arrow\"><img alt=\"More\" src=\"/assets/overlay-arrow.png\"/></div></div><div class=\"list_image\"><img alt=\"NASA's Curiosity Mars rover imaged these drifting clouds on May 17, 2019, the 2,410th Martian day, or sol, of the mission, using its black-and-white Navigation Cameras (Navcams).\" src=\"/system/news_items/list_view_images/8548_mars_seasonal_oxygen_gale_crater-320x240.jpg\"/></div><div class=\"bottom_gradient\"><div><h3>With Mars Methane Mystery Unsolved, Curiosity Serves Scientists a New One: Oxygen</h3></div></div></a><div class=\"list_text\"><div class=\"list_date\">November 12, 2019</div><div class=\"content_title\"><a href=\"/news/8548/with-mars-methane-mystery-unsolved-curiosity-serves-scientists-a-new-one-oxygen/\" target=\"_self\">With Mars Methane Mystery Unsolved, Curiosity Serves Scientists a New One: Oxygen</a></div><div class=\"article_teaser_body\">For the first time in the history of space exploration, scientists have measured the seasonal changes in the gases that fill the air directly above the surface of Gale Crater on Mars. </div></div></div></li><li class=\"slide\"><div class=\"image_and_description_container\"><a href=\"/news/8545/nasas-mars-2020-heads-into-the-test-chamber/\" target=\"_self\"><div class=\"rollover_description\"><div class=\"rollover_description_inner\">In this time-lapse video taken at JPL, engineers move the Mars 2020 rover into a large vacuum chamber for testing in Mars-like environmental conditions.</div><div class=\"overlay_arrow\"><img alt=\"More\" src=\"/assets/overlay-arrow.png\"/></div></div><div class=\"list_image\"><img alt=\"In this time-lapse video taken at JPL, engineers move the Mars 2020 rover into a large vacuum chamber for testing in Mars-like environmental conditions.\" src=\"/system/news_items/list_view_images/8545_24679_PIA23470-1041_320x240px.jpg\"/></div><div class=\"bottom_gradient\"><div><h3>NASA's Mars 2020 Heads Into the Test Chamber</h3></div></div></a><div class=\"list_text\"><div class=\"list_date\">November  7, 2019</div><div class=\"content_title\"><a href=\"/news/8545/nasas-mars-2020-heads-into-the-test-chamber/\" target=\"_self\">NASA's Mars 2020 Heads Into the Test Chamber</a></div><div class=\"article_teaser_body\">In this time-lapse video taken at JPL, engineers move the Mars 2020 rover into a large vacuum chamber for testing in Mars-like environmental conditions.</div></div></div></li><li class=\"slide\"><div class=\"image_and_description_container\"><a href=\"/news/8544/screening-soon-the-pathfinders-trains-lens-on-mars/\" target=\"_self\"><div class=\"rollover_description\"><div class=\"rollover_description_inner\">With the Mars 2020 mission ramping up, the documentary — the first of four about past JPL missions to the Red Planet to be shown at Caltech — tells a gripping backstory.</div><div class=\"overlay_arrow\"><img alt=\"More\" src=\"/assets/overlay-arrow.png\"/></div></div><div class=\"list_image\"><img alt=\"An artist's rendering of Mars Pathfinder, which consisted of a lander and the first-ever robotic rover on the surface of the Red Planet. The documentary &quot;The Pathfinders&quot; tells the story behind the mission. \" src=\"/system/news_items/list_view_images/8544_Pathfinder-Background-320x240.jpg\"/></div><div class=\"bottom_gradient\"><div><h3>Screening Soon: 'The Pathfinders' Trains Lens on Mars</h3></div></div></a><div class=\"list_text\"><div class=\"list_date\">November  7, 2019</div><div class=\"content_title\"><a href=\"/news/8544/screening-soon-the-pathfinders-trains-lens-on-mars/\" target=\"_self\">Screening Soon: 'The Pathfinders' Trains Lens on Mars</a></div><div class=\"article_teaser_body\">With the Mars 2020 mission ramping up, the documentary — the first of four about past JPL missions to the Red Planet to be shown at Caltech — tells a gripping backstory.</div></div></div></li><li class=\"slide\"><div class=\"image_and_description_container\"><a href=\"/news/8529/insights-mole-team-peers-into-the-pit/\" target=\"_self\"><div class=\"rollover_description\"><div class=\"rollover_description_inner\">Efforts to save the heat probe continue.</div><div class=\"overlay_arrow\"><img alt=\"More\" src=\"/assets/overlay-arrow.png\"/></div></div><div class=\"list_image\"><img alt=\"The shadow of NASA InSight's robotic arm moves over its heat probe, or &quot;mole,&quot; on Nov. 3, 2019, the 333rd Martian day, or sol, of the mission.\" src=\"/system/news_items/list_view_images/8529_PIA23512-226.gif\"/></div><div class=\"bottom_gradient\"><div><h3>InSight's 'Mole' Team Peers into the Pit</h3></div></div></a><div class=\"list_text\"><div class=\"list_date\">November  6, 2019</div><div class=\"content_title\"><a href=\"/news/8529/insights-mole-team-peers-into-the-pit/\" target=\"_self\">InSight's 'Mole' Team Peers into the Pit</a></div><div class=\"article_teaser_body\">Efforts to save the heat probe continue.</div></div></div></li><li class=\"slide\"><div class=\"image_and_description_container\"><a href=\"/news/8537/mars-2020-stands-on-its-own-six-wheels/\" target=\"_self\"><div class=\"rollover_description\"><div class=\"rollover_description_inner\">In time-lapse video, taken at JPL, captures the first time NASA's Mars 2020 rover carries its full weight on its legs and wheels.</div><div class=\"overlay_arrow\"><img alt=\"More\" src=\"/assets/overlay-arrow.png\"/></div></div><div class=\"list_image\"><img alt=\"In time-lapse video, taken at JPL, captures the first time NASA's Mars 2020 rover carries its full weight on its legs and wheels.\" src=\"/system/news_items/list_view_images/8537_PIA23468-16_320x240px.jpg\"/></div><div class=\"bottom_gradient\"><div><h3>Mars 2020 Stands on Its Own Six Wheels</h3></div></div></a><div class=\"list_text\"><div class=\"list_date\">October 24, 2019</div><div class=\"content_title\"><a href=\"/news/8537/mars-2020-stands-on-its-own-six-wheels/\" target=\"_self\">Mars 2020 Stands on Its Own Six Wheels</a></div><div class=\"article_teaser_body\">In time-lapse video, taken at JPL, captures the first time NASA's Mars 2020 rover carries its full weight on its legs and wheels.</div></div></div></li><li class=\"slide\"><div class=\"image_and_description_container\"><a href=\"/news/8536/new-selfie-shows-curiosity-the-mars-chemist/\" target=\"_self\"><div class=\"rollover_description\"><div class=\"rollover_description_inner\">The NASA rover performed a special chemistry experiment at the location captured in its newest self-portrait.</div><div class=\"overlay_arrow\"><img alt=\"More\" src=\"/assets/overlay-arrow.png\"/></div></div><div class=\"list_image\"><img alt=\"NASA's Curiosity rover took this selfie on Oct. 11, 2019, the 2,553rd Martian day, or sol, of its mission.\" src=\"/system/news_items/list_view_images/8536_Mars_chemist_320x240px.jpg\"/></div><div class=\"bottom_gradient\"><div><h3>New Selfie Shows Curiosity, the Mars Chemist</h3></div></div></a><div class=\"list_text\"><div class=\"list_date\">October 24, 2019</div><div class=\"content_title\"><a href=\"/news/8536/new-selfie-shows-curiosity-the-mars-chemist/\" target=\"_self\">New Selfie Shows Curiosity, the Mars Chemist</a></div><div class=\"article_teaser_body\">The NASA rover performed a special chemistry experiment at the location captured in its newest self-portrait.</div></div></div></li></ul>"
      ]
     },
     "execution_count": 6,
     "metadata": {},
     "output_type": "execute_result"
    }
   ],
   "source": [
    "news_articles"
   ]
  },
  {
   "cell_type": "code",
   "execution_count": 5,
   "metadata": {},
   "outputs": [],
   "source": [
    "news_title = articles.find('div', class_='content_title').text\n",
    "news_p = articles.find('div', class_='article_teaser_body').text"
   ]
  },
  {
   "cell_type": "code",
   "execution_count": 6,
   "metadata": {},
   "outputs": [
    {
     "data": {
      "text/plain": [
       "'The Man Who Wanted to Fly on Mars'"
      ]
     },
     "execution_count": 6,
     "metadata": {},
     "output_type": "execute_result"
    }
   ],
   "source": [
    "news_title"
   ]
  },
  {
   "cell_type": "code",
   "execution_count": 7,
   "metadata": {},
   "outputs": [
    {
     "data": {
      "text/plain": [
       "\"The Mars Helicopter is riding to the Red Planet this summer with NASA's Perseverance rover. The helicopter's chief engineer, Bob Balaram, shares the saga of how it came into being.\""
      ]
     },
     "execution_count": 7,
     "metadata": {},
     "output_type": "execute_result"
    }
   ],
   "source": [
    "news_p"
   ]
  },
  {
   "cell_type": "markdown",
   "metadata": {},
   "source": [
    "# JPL Mars Space Images - Featured Image"
   ]
  },
  {
   "cell_type": "code",
   "execution_count": 8,
   "metadata": {},
   "outputs": [],
   "source": [
    "url = 'https://www.jpl.nasa.gov/spaceimages/?search=&category=Mars'\n",
    "browser.visit(url)\n",
    "html = browser.html\n",
    "soup = BeautifulSoup(html, 'html.parser')"
   ]
  },
  {
   "cell_type": "code",
   "execution_count": 9,
   "metadata": {},
   "outputs": [],
   "source": [
    "featured = soup.find('section', class_='primary_media_feature')\n",
    "featured_article_style = featured.find('div', class_= 'carousel_items').article['style']\n",
    "style = cssutils.parseStyle(featured_article_style)\n",
    "url = style['background-image']\n",
    "url = url.replace('url(', '').replace(')', '')\n",
    "complete_url = 'https://www.jpl.nasa.gov' + url"
   ]
  },
  {
   "cell_type": "code",
   "execution_count": 10,
   "metadata": {},
   "outputs": [
    {
     "data": {
      "text/plain": [
       "'https://www.jpl.nasa.gov/spaceimages/images/wallpaper/PIA19334-1920x1200.jpg'"
      ]
     },
     "execution_count": 10,
     "metadata": {},
     "output_type": "execute_result"
    }
   ],
   "source": [
    "complete_url"
   ]
  },
  {
   "cell_type": "markdown",
   "metadata": {},
   "source": [
    "# Mars Weather"
   ]
  },
  {
   "cell_type": "code",
   "execution_count": 11,
   "metadata": {},
   "outputs": [],
   "source": [
    "url = 'https://twitter.com/marswxreport?lang=en'\n",
    "# browser.visit(url)\n",
    "# html = browser.html\n",
    "r = requests.get(url)\n",
    "soup = BeautifulSoup(r.text, 'html.parser')"
   ]
  },
  {
   "cell_type": "code",
   "execution_count": 12,
   "metadata": {},
   "outputs": [
    {
     "data": {
      "text/plain": [
       "'InSight sol 480 (2020-04-02) low -93.0ºC (-135.5ºF) high -6.7ºC (19.9ºF),winds from the SW at 5.8 m/s (13.1 mph) gusting to 17.2 m/s (38.5 mph),pressure at 6.50 hPa'"
      ]
     },
     "execution_count": 12,
     "metadata": {},
     "output_type": "execute_result"
    }
   ],
   "source": [
    "tweet = soup.find('div', class_='js-tweet-text-container')\n",
    "\n",
    "for a in tweet.findAll('a'):\n",
    "    a.decompose()\n",
    "\n",
    "tweet_p = tweet.p.text    \n",
    "mars_weather = tweet_p.replace('\\n', ',').replace('\\r', ',')\n",
    "mars_weather"
   ]
  },
  {
   "cell_type": "markdown",
   "metadata": {},
   "source": [
    "# Mars Facts"
   ]
  },
  {
   "cell_type": "code",
   "execution_count": 13,
   "metadata": {},
   "outputs": [],
   "source": [
    "url = 'https://space-facts.com/mars/'\n",
    "tables = pd.read_html(url)"
   ]
  },
  {
   "cell_type": "code",
   "execution_count": 14,
   "metadata": {},
   "outputs": [],
   "source": [
    "df = tables[2]"
   ]
  },
  {
   "cell_type": "code",
   "execution_count": 15,
   "metadata": {},
   "outputs": [
    {
     "data": {
      "text/html": [
       "<div>\n",
       "<style scoped>\n",
       "    .dataframe tbody tr th:only-of-type {\n",
       "        vertical-align: middle;\n",
       "    }\n",
       "\n",
       "    .dataframe tbody tr th {\n",
       "        vertical-align: top;\n",
       "    }\n",
       "\n",
       "    .dataframe thead th {\n",
       "        text-align: right;\n",
       "    }\n",
       "</style>\n",
       "<table border=\"1\" class=\"dataframe\">\n",
       "  <thead>\n",
       "    <tr style=\"text-align: right;\">\n",
       "      <th></th>\n",
       "      <th>0</th>\n",
       "      <th>1</th>\n",
       "    </tr>\n",
       "  </thead>\n",
       "  <tbody>\n",
       "    <tr>\n",
       "      <th>0</th>\n",
       "      <td>Equatorial Diameter:</td>\n",
       "      <td>6,792 km</td>\n",
       "    </tr>\n",
       "    <tr>\n",
       "      <th>1</th>\n",
       "      <td>Polar Diameter:</td>\n",
       "      <td>6,752 km</td>\n",
       "    </tr>\n",
       "    <tr>\n",
       "      <th>2</th>\n",
       "      <td>Mass:</td>\n",
       "      <td>6.39 × 10^23 kg (0.11 Earths)</td>\n",
       "    </tr>\n",
       "    <tr>\n",
       "      <th>3</th>\n",
       "      <td>Moons:</td>\n",
       "      <td>2 (Phobos &amp; Deimos)</td>\n",
       "    </tr>\n",
       "    <tr>\n",
       "      <th>4</th>\n",
       "      <td>Orbit Distance:</td>\n",
       "      <td>227,943,824 km (1.38 AU)</td>\n",
       "    </tr>\n",
       "    <tr>\n",
       "      <th>5</th>\n",
       "      <td>Orbit Period:</td>\n",
       "      <td>687 days (1.9 years)</td>\n",
       "    </tr>\n",
       "    <tr>\n",
       "      <th>6</th>\n",
       "      <td>Surface Temperature:</td>\n",
       "      <td>-87 to -5 °C</td>\n",
       "    </tr>\n",
       "    <tr>\n",
       "      <th>7</th>\n",
       "      <td>First Record:</td>\n",
       "      <td>2nd millennium BC</td>\n",
       "    </tr>\n",
       "    <tr>\n",
       "      <th>8</th>\n",
       "      <td>Recorded By:</td>\n",
       "      <td>Egyptian astronomers</td>\n",
       "    </tr>\n",
       "  </tbody>\n",
       "</table>\n",
       "</div>"
      ],
      "text/plain": [
       "                      0                              1\n",
       "0  Equatorial Diameter:                       6,792 km\n",
       "1       Polar Diameter:                       6,752 km\n",
       "2                 Mass:  6.39 × 10^23 kg (0.11 Earths)\n",
       "3                Moons:            2 (Phobos & Deimos)\n",
       "4       Orbit Distance:       227,943,824 km (1.38 AU)\n",
       "5         Orbit Period:           687 days (1.9 years)\n",
       "6  Surface Temperature:                   -87 to -5 °C\n",
       "7         First Record:              2nd millennium BC\n",
       "8          Recorded By:           Egyptian astronomers"
      ]
     },
     "execution_count": 15,
     "metadata": {},
     "output_type": "execute_result"
    }
   ],
   "source": [
    "df"
   ]
  },
  {
   "cell_type": "markdown",
   "metadata": {},
   "source": [
    "# Mars Hemispheres"
   ]
  },
  {
   "cell_type": "code",
   "execution_count": 16,
   "metadata": {},
   "outputs": [],
   "source": [
    "url = 'https://astrogeology.usgs.gov/search/results?q=hemisphere+enhanced&k1=target&v1=Mars'\n",
    "browser.visit(url)\n",
    "html = browser.html\n",
    "soup = BeautifulSoup(html, 'html.parser')"
   ]
  },
  {
   "cell_type": "code",
   "execution_count": 17,
   "metadata": {},
   "outputs": [],
   "source": [
    "#print(soup.prettify())"
   ]
  },
  {
   "cell_type": "code",
   "execution_count": 18,
   "metadata": {},
   "outputs": [
    {
     "name": "stdout",
     "output_type": "stream",
     "text": [
      "Cerberus Hemisphere Enhanced\n",
      "/cache/images/cfa62af2557222a02478f1fcd781d445_cerberus_enhanced.tif_full.jpg\n",
      "\n",
      "\n",
      "Schiaparelli Hemisphere Enhanced\n",
      "/cache/images/3cdd1cbf5e0813bba925c9030d13b62e_schiaparelli_enhanced.tif_full.jpg\n",
      "\n",
      "\n",
      "Syrtis Major Hemisphere Enhanced\n",
      "/cache/images/ae209b4e408bb6c3e67b6af38168cf28_syrtis_major_enhanced.tif_full.jpg\n",
      "\n",
      "\n",
      "Valles Marineris Hemisphere Enhanced\n",
      "/cache/images/7cf2da4bf549ed01c17f206327be4db7_valles_marineris_enhanced.tif_full.jpg\n",
      "\n",
      "\n"
     ]
    }
   ],
   "source": [
    "div = soup.find('div', class_='collapsible results')\n",
    "div = div.findAll('div', class_='item')\n",
    "\n",
    "hemisphere_image_urls = []\n",
    "\n",
    "for item in div:\n",
    "    link = item.find('a', class_='itemLink product-item')\n",
    "    img = link.find('img', class_='thumb')\n",
    "    description = item.find('div', class_='description')\n",
    "    \n",
    "#    print(link['href'])\n",
    "#    print(item.prettify())\n",
    "    title = description.a.text\n",
    "    print(description.a.text)\n",
    "    \n",
    "    url2 = 'https://astrogeology.usgs.gov'+link['href']\n",
    "#    print(url2)\n",
    "    browser.visit(url2)\n",
    "    html = browser.html\n",
    "    soup2 = BeautifulSoup(html, 'html.parser')\n",
    "    \n",
    "    img = soup2.find('img', class_='wide-image')\n",
    "    img_url = 'https://astrogeology.usgs.gov' + img['src']\n",
    "    print(img['src'])\n",
    "    \n",
    "    print(\"\\n\")\n",
    "    \n",
    "    hemisphere_image_urls.append({'title': title,'img_url':img_url})\n",
    "    "
   ]
  },
  {
   "cell_type": "code",
   "execution_count": 19,
   "metadata": {},
   "outputs": [
    {
     "data": {
      "text/plain": [
       "[{'title': 'Cerberus Hemisphere Enhanced',\n",
       "  'img_url': 'https://astrogeology.usgs.gov/cache/images/cfa62af2557222a02478f1fcd781d445_cerberus_enhanced.tif_full.jpg'},\n",
       " {'title': 'Schiaparelli Hemisphere Enhanced',\n",
       "  'img_url': 'https://astrogeology.usgs.gov/cache/images/3cdd1cbf5e0813bba925c9030d13b62e_schiaparelli_enhanced.tif_full.jpg'},\n",
       " {'title': 'Syrtis Major Hemisphere Enhanced',\n",
       "  'img_url': 'https://astrogeology.usgs.gov/cache/images/ae209b4e408bb6c3e67b6af38168cf28_syrtis_major_enhanced.tif_full.jpg'},\n",
       " {'title': 'Valles Marineris Hemisphere Enhanced',\n",
       "  'img_url': 'https://astrogeology.usgs.gov/cache/images/7cf2da4bf549ed01c17f206327be4db7_valles_marineris_enhanced.tif_full.jpg'}]"
      ]
     },
     "execution_count": 19,
     "metadata": {},
     "output_type": "execute_result"
    }
   ],
   "source": [
    "hemisphere_image_urls"
   ]
  },
  {
   "cell_type": "code",
   "execution_count": null,
   "metadata": {},
   "outputs": [],
   "source": []
  }
 ],
 "metadata": {
  "kernelspec": {
   "display_name": "Python 3",
   "language": "python",
   "name": "python3"
  },
  "language_info": {
   "codemirror_mode": {
    "name": "ipython",
    "version": 3
   },
   "file_extension": ".py",
   "mimetype": "text/x-python",
   "name": "python",
   "nbconvert_exporter": "python",
   "pygments_lexer": "ipython3",
   "version": "3.7.4"
  }
 },
 "nbformat": 4,
 "nbformat_minor": 2
}
